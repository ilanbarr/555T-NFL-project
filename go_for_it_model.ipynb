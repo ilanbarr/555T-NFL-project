{
 "cells": [
  {
   "cell_type": "code",
   "execution_count": 1,
   "metadata": {},
   "outputs": [],
   "source": [
    "import pandas as pd"
   ]
  },
  {
   "cell_type": "code",
   "execution_count": 2,
   "metadata": {},
   "outputs": [],
   "source": [
    "df1 = pd.read_pickle('2013-2023_plays.pkl')"
   ]
  },
  {
   "cell_type": "code",
   "execution_count": 3,
   "metadata": {},
   "outputs": [],
   "source": [
    "aaa = ['down','goal_to_go','ydstogo','fourth_down_converted','fourth_down_failed','series_result','field_goal_attempt','punt_attempt','spread_line','posteam_type'\n",
    "\n",
    "]\n",
    "df= df1[aaa]"
   ]
  },
  {
   "cell_type": "code",
   "execution_count": 4,
   "metadata": {},
   "outputs": [],
   "source": [
    "df = df[df['down']==4]"
   ]
  },
  {
   "cell_type": "code",
   "execution_count": 5,
   "metadata": {},
   "outputs": [],
   "source": [
    "mask = (\n",
    "    (df['fourth_down_converted'] == 0) &\n",
    "    (df['fourth_down_failed'] == 0) &\n",
    "    (df['field_goal_attempt'] == 0) &\n",
    "    (df['punt_attempt'] == 0)\n",
    ")\n",
    "\n",
    "# Use the mask to filter the DataFrame\n",
    "rows_to_drop = df[mask]\n",
    "df = df[~mask]\n",
    "\n",
    "mask2 = (df['punt_attempt'] == 1) | (df['field_goal_attempt'] == 1)\n",
    "df = df[~mask2]\n",
    "\n",
    "\n",
    "def adjust_spread(row):\n",
    "    if row['posteam_type'] == 'away':\n",
    "        return -row['spread_line']\n",
    "    else:\n",
    "        return row['spread_line']\n",
    "    \n",
    "\n",
    "# Apply the function across the DataFrame rows\n",
    "df['adjusted_spread_line'] = df.apply(adjust_spread, axis=1)\n",
    "\n",
    "df['posteam_is_home'] = (df['posteam_type'] == 'home').astype(int)\n",
    "df.drop('posteam_type',axis=1,inplace=True)"
   ]
  },
  {
   "cell_type": "code",
   "execution_count": 6,
   "metadata": {},
   "outputs": [],
   "source": [
    "df = df[['goal_to_go','fourth_down_converted','ydstogo','adjusted_spread_line','posteam_is_home']].dropna()\n",
    "\n",
    "df = df[['fourth_down_converted','ydstogo']]"
   ]
  },
  {
   "cell_type": "code",
   "execution_count": 7,
   "metadata": {},
   "outputs": [
    {
     "name": "stdout",
     "output_type": "stream",
     "text": [
      "Model Accuracy: 0.64\n",
      "Confusion Matrix:\n",
      "[[457 524]\n",
      " [207 856]]\n"
     ]
    }
   ],
   "source": [
    "import pandas as pd\n",
    "from sklearn.linear_model import LogisticRegression\n",
    "from sklearn.model_selection import train_test_split\n",
    "from sklearn.metrics import accuracy_score, confusion_matrix\n",
    "\n",
    "# Assuming df is predefined and includes the necessary columns\n",
    "\n",
    "# Define features and target\n",
    "X = df.drop('fourth_down_converted',axis=1)\n",
    "y = df['fourth_down_converted']    # target\n",
    "\n",
    "# Split into training and testing sets\n",
    "X_train, X_test, y_train, y_test = train_test_split(X, y, test_size=0.3, random_state=42)\n",
    "\n",
    "# Initialize and train logistic regression model\n",
    "log_reg = LogisticRegression(random_state=42)\n",
    "log_reg.fit(X_train, y_train)\n",
    "\n",
    "# Predict on the testing set\n",
    "y_pred = log_reg.predict(X_test)\n",
    "\n",
    "# Evaluate the model\n",
    "accuracy = accuracy_score(y_test, y_pred)\n",
    "print(f\"Model Accuracy: {accuracy:.2f}\")\n",
    "\n",
    "# Confusion matrix\n",
    "conf_matrix = confusion_matrix(y_test, y_pred)\n",
    "print(\"Confusion Matrix:\")\n",
    "print(conf_matrix)\n"
   ]
  },
  {
   "cell_type": "code",
   "execution_count": 8,
   "metadata": {},
   "outputs": [],
   "source": [
    "import numpy as np\n",
    "import pandas as pd\n",
    "from sklearn.ensemble import RandomForestClassifier\n",
    "from sklearn.model_selection import train_test_split\n",
    "from sklearn.metrics import accuracy_score, confusion_matrix\n"
   ]
  },
  {
   "cell_type": "code",
   "execution_count": 9,
   "metadata": {},
   "outputs": [
    {
     "name": "stdout",
     "output_type": "stream",
     "text": [
      "Accuracy: 0.64\n",
      "Confusion Matrix:\n",
      "[[623 358]\n",
      " [371 692]]\n"
     ]
    }
   ],
   "source": [
    "# Create a Random Forest classifier\n",
    "rf_model = RandomForestClassifier(n_estimators=1000, random_state=27)\n",
    "\n",
    "# Train the model\n",
    "rf_model.fit(X_train, y_train)\n",
    "# Predict on the testing set\n",
    "y_pred = rf_model.predict(X_test)\n",
    "\n",
    "# Calculate and print the accuracy\n",
    "accuracy = accuracy_score(y_test, y_pred)\n",
    "print(f\"Accuracy: {accuracy:.2f}\")\n",
    "\n",
    "# Print the confusion matrix\n",
    "conf_matrix = confusion_matrix(y_test, y_pred)\n",
    "print(\"Confusion Matrix:\")\n",
    "print(conf_matrix)\n"
   ]
  },
  {
   "cell_type": "code",
   "execution_count": 12,
   "metadata": {},
   "outputs": [],
   "source": [
    "import pickle\n",
    "with open('GFI_prediction_model.pkl','wb') as file:\n",
    "    pickle.dump(rf_model,file)"
   ]
  },
  {
   "cell_type": "code",
   "execution_count": 10,
   "metadata": {},
   "outputs": [
    {
     "name": "stdout",
     "output_type": "stream",
     "text": [
      "Epoch 1/50\n",
      "  1/120 [..............................] - ETA: 19s - loss: 0.7025 - accuracy: 0.5312"
     ]
    },
    {
     "name": "stderr",
     "output_type": "stream",
     "text": [
      "2024-04-26 13:36:00.925984: W tensorflow/tsl/platform/profile_utils/cpu_utils.cc:128] Failed to get CPU frequency: 0 Hz\n"
     ]
    },
    {
     "name": "stdout",
     "output_type": "stream",
     "text": [
      "120/120 [==============================] - 0s 1ms/step - loss: 0.6631 - accuracy: 0.6049 - val_loss: 0.6513 - val_accuracy: 0.6090\n",
      "Epoch 2/50\n",
      "120/120 [==============================] - 0s 483us/step - loss: 0.6508 - accuracy: 0.6159 - val_loss: 0.6480 - val_accuracy: 0.6195\n",
      "Epoch 3/50\n",
      "120/120 [==============================] - 0s 478us/step - loss: 0.6509 - accuracy: 0.6211 - val_loss: 0.6477 - val_accuracy: 0.6090\n",
      "Epoch 4/50\n",
      "120/120 [==============================] - 0s 468us/step - loss: 0.6486 - accuracy: 0.6253 - val_loss: 0.6465 - val_accuracy: 0.6195\n",
      "Epoch 5/50\n",
      "120/120 [==============================] - 0s 472us/step - loss: 0.6506 - accuracy: 0.6148 - val_loss: 0.6571 - val_accuracy: 0.6038\n",
      "Epoch 6/50\n",
      "120/120 [==============================] - 0s 1ms/step - loss: 0.6493 - accuracy: 0.6224 - val_loss: 0.6459 - val_accuracy: 0.6195\n",
      "Epoch 7/50\n",
      "120/120 [==============================] - 0s 547us/step - loss: 0.6467 - accuracy: 0.6172 - val_loss: 0.6496 - val_accuracy: 0.6090\n",
      "Epoch 8/50\n",
      "120/120 [==============================] - 0s 471us/step - loss: 0.6474 - accuracy: 0.6185 - val_loss: 0.6505 - val_accuracy: 0.6090\n",
      "Epoch 9/50\n",
      "120/120 [==============================] - 0s 467us/step - loss: 0.6475 - accuracy: 0.6206 - val_loss: 0.6452 - val_accuracy: 0.6195\n",
      "Epoch 10/50\n",
      "120/120 [==============================] - 0s 466us/step - loss: 0.6485 - accuracy: 0.6287 - val_loss: 0.6615 - val_accuracy: 0.6038\n",
      "Epoch 11/50\n",
      "120/120 [==============================] - 0s 463us/step - loss: 0.6470 - accuracy: 0.6206 - val_loss: 0.6449 - val_accuracy: 0.6195\n",
      "Epoch 12/50\n",
      "120/120 [==============================] - 0s 469us/step - loss: 0.6456 - accuracy: 0.6219 - val_loss: 0.6445 - val_accuracy: 0.6195\n",
      "Epoch 13/50\n",
      "120/120 [==============================] - 0s 1ms/step - loss: 0.6464 - accuracy: 0.6256 - val_loss: 0.6651 - val_accuracy: 0.5891\n",
      "Epoch 14/50\n",
      "120/120 [==============================] - 0s 497us/step - loss: 0.6467 - accuracy: 0.6243 - val_loss: 0.6455 - val_accuracy: 0.6195\n",
      "Epoch 15/50\n",
      "120/120 [==============================] - 0s 467us/step - loss: 0.6483 - accuracy: 0.6240 - val_loss: 0.6450 - val_accuracy: 0.6394\n",
      "Epoch 16/50\n",
      "120/120 [==============================] - 0s 462us/step - loss: 0.6480 - accuracy: 0.6238 - val_loss: 0.6466 - val_accuracy: 0.6195\n",
      "Epoch 17/50\n",
      "120/120 [==============================] - 0s 469us/step - loss: 0.6458 - accuracy: 0.6214 - val_loss: 0.6445 - val_accuracy: 0.6195\n",
      "Epoch 18/50\n",
      "120/120 [==============================] - 0s 472us/step - loss: 0.6463 - accuracy: 0.6266 - val_loss: 0.6551 - val_accuracy: 0.6038\n",
      "Epoch 19/50\n",
      "120/120 [==============================] - 0s 468us/step - loss: 0.6451 - accuracy: 0.6232 - val_loss: 0.6456 - val_accuracy: 0.6394\n",
      "Epoch 20/50\n",
      "120/120 [==============================] - 0s 1ms/step - loss: 0.6477 - accuracy: 0.6251 - val_loss: 0.6483 - val_accuracy: 0.6090\n",
      "Epoch 21/50\n",
      "120/120 [==============================] - 0s 486us/step - loss: 0.6460 - accuracy: 0.6293 - val_loss: 0.6464 - val_accuracy: 0.6195\n",
      "Epoch 22/50\n",
      "120/120 [==============================] - 0s 469us/step - loss: 0.6458 - accuracy: 0.6253 - val_loss: 0.6484 - val_accuracy: 0.6090\n",
      "Epoch 23/50\n",
      "120/120 [==============================] - 0s 467us/step - loss: 0.6456 - accuracy: 0.6259 - val_loss: 0.6444 - val_accuracy: 0.6394\n",
      "Epoch 24/50\n",
      "120/120 [==============================] - 0s 837us/step - loss: 0.6462 - accuracy: 0.6224 - val_loss: 0.6460 - val_accuracy: 0.6195\n",
      "Epoch 25/50\n",
      "120/120 [==============================] - 0s 471us/step - loss: 0.6453 - accuracy: 0.6251 - val_loss: 0.6492 - val_accuracy: 0.6090\n",
      "Epoch 26/50\n",
      "120/120 [==============================] - 0s 468us/step - loss: 0.6463 - accuracy: 0.6261 - val_loss: 0.6443 - val_accuracy: 0.6394\n",
      "Epoch 27/50\n",
      "120/120 [==============================] - 0s 1ms/step - loss: 0.6473 - accuracy: 0.6266 - val_loss: 0.6494 - val_accuracy: 0.6090\n",
      "Epoch 28/50\n",
      "120/120 [==============================] - 0s 494us/step - loss: 0.6454 - accuracy: 0.6214 - val_loss: 0.6443 - val_accuracy: 0.6394\n",
      "Epoch 29/50\n",
      "120/120 [==============================] - 0s 467us/step - loss: 0.6457 - accuracy: 0.6222 - val_loss: 0.6479 - val_accuracy: 0.6195\n",
      "Epoch 30/50\n",
      "120/120 [==============================] - 0s 481us/step - loss: 0.6458 - accuracy: 0.6256 - val_loss: 0.6459 - val_accuracy: 0.6195\n",
      "Epoch 31/50\n",
      "120/120 [==============================] - 0s 462us/step - loss: 0.6454 - accuracy: 0.6266 - val_loss: 0.6454 - val_accuracy: 0.6195\n",
      "Epoch 32/50\n",
      "120/120 [==============================] - 0s 487us/step - loss: 0.6453 - accuracy: 0.6253 - val_loss: 0.6471 - val_accuracy: 0.6195\n",
      "Epoch 33/50\n",
      "120/120 [==============================] - 0s 509us/step - loss: 0.6457 - accuracy: 0.6274 - val_loss: 0.6455 - val_accuracy: 0.6195\n",
      "Epoch 34/50\n",
      "120/120 [==============================] - 0s 1ms/step - loss: 0.6451 - accuracy: 0.6259 - val_loss: 0.6481 - val_accuracy: 0.6195\n",
      "Epoch 35/50\n",
      "120/120 [==============================] - 0s 651us/step - loss: 0.6460 - accuracy: 0.6259 - val_loss: 0.6446 - val_accuracy: 0.6195\n",
      "Epoch 36/50\n",
      "120/120 [==============================] - 0s 489us/step - loss: 0.6458 - accuracy: 0.6243 - val_loss: 0.6484 - val_accuracy: 0.6195\n",
      "Epoch 37/50\n",
      "120/120 [==============================] - 0s 470us/step - loss: 0.6452 - accuracy: 0.6209 - val_loss: 0.6439 - val_accuracy: 0.6195\n",
      "Epoch 38/50\n",
      "120/120 [==============================] - 0s 503us/step - loss: 0.6453 - accuracy: 0.6261 - val_loss: 0.6438 - val_accuracy: 0.6394\n",
      "Epoch 39/50\n",
      "120/120 [==============================] - 0s 490us/step - loss: 0.6455 - accuracy: 0.6264 - val_loss: 0.6456 - val_accuracy: 0.6195\n",
      "Epoch 40/50\n",
      "120/120 [==============================] - 0s 481us/step - loss: 0.6452 - accuracy: 0.6256 - val_loss: 0.6441 - val_accuracy: 0.6195\n",
      "Epoch 41/50\n",
      "120/120 [==============================] - 0s 1000us/step - loss: 0.6453 - accuracy: 0.6256 - val_loss: 0.6449 - val_accuracy: 0.6195\n",
      "Epoch 42/50\n",
      "120/120 [==============================] - 0s 773us/step - loss: 0.6458 - accuracy: 0.6269 - val_loss: 0.6477 - val_accuracy: 0.6195\n",
      "Epoch 43/50\n",
      "120/120 [==============================] - 0s 607us/step - loss: 0.6457 - accuracy: 0.6253 - val_loss: 0.6445 - val_accuracy: 0.6195\n",
      "Epoch 44/50\n",
      "120/120 [==============================] - 0s 509us/step - loss: 0.6452 - accuracy: 0.6251 - val_loss: 0.6444 - val_accuracy: 0.6195\n",
      "Epoch 45/50\n",
      "120/120 [==============================] - 0s 508us/step - loss: 0.6448 - accuracy: 0.6293 - val_loss: 0.6481 - val_accuracy: 0.6195\n",
      "Epoch 46/50\n",
      "120/120 [==============================] - 0s 551us/step - loss: 0.6448 - accuracy: 0.6251 - val_loss: 0.6481 - val_accuracy: 0.6195\n",
      "Epoch 47/50\n",
      "120/120 [==============================] - 0s 514us/step - loss: 0.6457 - accuracy: 0.6238 - val_loss: 0.6471 - val_accuracy: 0.6195\n",
      "Epoch 48/50\n",
      "120/120 [==============================] - 0s 1ms/step - loss: 0.6456 - accuracy: 0.6240 - val_loss: 0.6459 - val_accuracy: 0.6195\n",
      "Epoch 49/50\n",
      "120/120 [==============================] - 0s 511us/step - loss: 0.6455 - accuracy: 0.6256 - val_loss: 0.6442 - val_accuracy: 0.6195\n",
      "Epoch 50/50\n",
      "120/120 [==============================] - 0s 464us/step - loss: 0.6453 - accuracy: 0.6264 - val_loss: 0.6454 - val_accuracy: 0.6195\n",
      "64/64 [==============================] - 0s 259us/step - loss: 0.6350 - accuracy: 0.6448\n",
      "Test Accuracy: 0.64\n"
     ]
    }
   ],
   "source": [
    "import tensorflow as tf\n",
    "\n",
    "# Build the ANN model\n",
    "model = tf.keras.models.Sequential([\n",
    "    tf.keras.layers.Dense(128, activation='relu', input_shape=(X_train.shape[1],)),\n",
    "    tf.keras.layers.Dense(64, activation='relu'),\n",
    "    tf.keras.layers.Dense(1, activation='sigmoid')  # Use 'sigmoid' for binary classification\n",
    "])\n",
    "\n",
    "# Compile the model\n",
    "model.compile(optimizer='adam',\n",
    "              loss='binary_crossentropy',  # Use 'binary_crossentropy' for binary classification\n",
    "              metrics=['accuracy'])\n",
    "\n",
    "X_train = X_train.astype('float32')\n",
    "X_test = X_test.astype('float32')\n",
    "\n",
    "\n",
    "# Train the model again\n",
    "history = model.fit(X_train, y_train, epochs=50, batch_size=32, validation_split=0.2)\n",
    "\n",
    "# Evaluate the model\n",
    "test_loss, test_accuracy = model.evaluate(X_test, y_test)\n",
    "print(f\"Test Accuracy: {test_accuracy:.2f}\")\n"
   ]
  },
  {
   "cell_type": "code",
   "execution_count": null,
   "metadata": {},
   "outputs": [],
   "source": []
  }
 ],
 "metadata": {
  "kernelspec": {
   "display_name": "base",
   "language": "python",
   "name": "python3"
  },
  "language_info": {
   "codemirror_mode": {
    "name": "ipython",
    "version": 3
   },
   "file_extension": ".py",
   "mimetype": "text/x-python",
   "name": "python",
   "nbconvert_exporter": "python",
   "pygments_lexer": "ipython3",
   "version": "3.11.5"
  }
 },
 "nbformat": 4,
 "nbformat_minor": 2
}
